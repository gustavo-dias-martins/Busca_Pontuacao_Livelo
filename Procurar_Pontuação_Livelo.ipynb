{
 "cells": [
  {
   "cell_type": "code",
   "execution_count": 3,
   "id": "641fc7c7",
   "metadata": {},
   "outputs": [
    {
     "name": "stdout",
     "output_type": "stream",
     "text": [
      "\n"
     ]
    },
    {
     "name": "stderr",
     "output_type": "stream",
     "text": [
      "[WDM] - ====== WebDriver manager ======\n",
      "[WDM] - Current google-chrome version is 104.0.5112\n",
      "[WDM] - Get LATEST chromedriver version for 104.0.5112 google-chrome\n",
      "[WDM] - Driver [C:\\Users\\Gustavo Dias Martins\\.wdm\\drivers\\chromedriver\\win32\\104.0.5112.79\\chromedriver.exe] found in cache\n"
     ]
    }
   ],
   "source": [
    "from selenium import webdriver\n",
    "from selenium.webdriver.chrome.service import Service\n",
    "from webdriver_manager.chrome import ChromeDriverManager\n",
    "from selenium.webdriver.common.by import By\n",
    "from selenium.webdriver.common.keys import Keys\n",
    "from selenium.webdriver import ActionChains\n",
    "\n",
    "servico = Service(ChromeDriverManager().install())\n",
    "\n",
    "import time\n",
    "import pandas as pd\n",
    "from tqdm import tqdm"
   ]
  },
  {
   "cell_type": "markdown",
   "id": "5f2eee84",
   "metadata": {},
   "source": [
    "## Livelo"
   ]
  },
  {
   "cell_type": "code",
   "execution_count": 6,
   "id": "585a30b2",
   "metadata": {},
   "outputs": [],
   "source": [
    "def promocoes_livelo(lista_sites):\n",
    "    \n",
    "    ''''\n",
    "    Realizar a procura dos pontos, sites, links e regulamentos dos parceiros na Livelo\n",
    "    \n",
    "    Parâmetros:\n",
    "    lista_sites : a lista dos parceiros para serem procurados\n",
    "    \n",
    "    '''\n",
    "    \n",
    "    promocoes_livelo = pd.DataFrame(columns=[['Site','Pontos','Regulamento', 'Link']])\n",
    "    \n",
    "    pbar = tqdm(lista_sites)\n",
    "    \n",
    "    for site in pbar:\n",
    "                \n",
    "        #Entrar no site da Livelo\n",
    "        \n",
    "        while True:\n",
    "            try:\n",
    "                navegador.get('https://www.livelo.com.br/')\n",
    "                break\n",
    "            except:\n",
    "                continue\n",
    "        \n",
    "        pbar.set_description(f'Pesquisando {site}...')\n",
    "        \n",
    "        #Esperar o PopUp aparecer e fechar ele\n",
    "        while len(navegador.find_elements(By.XPATH, '//*[@id=\"div-footer\"]/section/div/div[3]/span')) ==0:\n",
    "            time.sleep(1)\n",
    "        navegador.find_element(By.XPATH, '//*[@id=\"div-footer\"]/section/div/div[3]/span').click()\n",
    "\n",
    "        #Clicar nas opcções até entrar na listagem dos sites pareceiros\n",
    "        botao = navegador.find_element(By.ID, 'li-first-level-menu-2')\n",
    "        ActionChains(navegador).move_to_element(botao).perform()\n",
    "        time.sleep(0.3)\n",
    "        botao2 = navegador.find_element(By.ID, 'li-second-level-menu-2-1')\n",
    "        time.sleep(0.3)\n",
    "        ActionChains(navegador).move_to_element(botao2).perform()\n",
    "        botao3 = navegador.find_element(By.ID, 'li-third-level-menu-2-1-5')\n",
    "        ActionChains(navegador).move_to_element(botao3).perform()\n",
    "        time.sleep(0.5)\n",
    "        navegador.find_element(By.ID, 'li-third-level-menu-2-1-5').click()\n",
    "        while len(navegador.find_elements(By.ID, 'inpt-filterSearch')) ==0:\n",
    "            time.sleep(1)\n",
    "        \n",
    "        #Procurar o parceiro desejado\n",
    "        navegador.find_element(By.ID, 'inpt-filterSearch').send_keys(site, Keys.ENTER)\n",
    "        navegador.find_element(By.XPATH, '//*[@id=\"btn-partnerSearch\"]').click()\n",
    "        try:\n",
    "            navegador.find_element(By.CLASS_NAME, 'button__knowmore--info').click()\n",
    "        except:\n",
    "            continue\n",
    "        \n",
    "        while len(navegador.find_elements(By.XPATH, '//*[@id=\"div-bannerParityInfo\"]/div[1]/span[4]')) == 0:\n",
    "            time.sleep(1)\n",
    "        \n",
    "        #Pegar os pontos\n",
    "        try:\n",
    "            pontos = navegador.find_element(By.CLASS_NAME, 'parity__card--info_club-span-points').text\n",
    "        except:\n",
    "            pontos = navegador.find_element(By.XPATH, '//*[@id=\"div-bannerParityInfo\"]/div[1]/span[4]').text\n",
    "        \n",
    "        #Pegar o regulamento\n",
    "        try:\n",
    "            regulamento = navegador.find_element(By.CLASS_NAME, 'banner__blocktext-text').text\n",
    "        except:\n",
    "            regulamento = navegador.find_element(By.ID, 'h1-bannerParityMainText').text\n",
    "         \n",
    "        #Pegar o link\n",
    "        try:\n",
    "            link = navegador.find_element(By.CLASS_NAME, 'icon-external-link').get_attribute('href')\n",
    "        except:\n",
    "            continue\n",
    "            \n",
    "        #Criar a tabela auxiliar\n",
    "        tabela_intermediaria = pd.DataFrame([[site, pontos, regulamento, link]], columns=[['Site','Pontos','Regulamento','Link']])\n",
    "        pd.set_option('display.max_colwidth', None)\n",
    "        \n",
    "        #Adicionar na tabela promoções\n",
    "        promocoes_livelo = promocoes_livelo.append(tabela_intermediaria)\n",
    "        pd.set_option('display.max_colwidth', None)\n",
    "      \n",
    "        \n",
    "        \n",
    "    return promocoes_livelo"
   ]
  },
  {
   "cell_type": "code",
   "execution_count": 10,
   "id": "5c8e0899",
   "metadata": {},
   "outputs": [
    {
     "name": "stdout",
     "output_type": "stream",
     "text": [
      "Digite o site desejado (0 para encerrar): movida\n",
      "Digite o site desejado (0 para encerrar): renner\n",
      "Digite o site desejado (0 para encerrar): 0\n",
      "\n",
      "\n",
      "Situações da Livelo:\n",
      "\n"
     ]
    },
    {
     "name": "stderr",
     "output_type": "stream",
     "text": [
      "Pesquisando Renner...: 100%|█████████████████████████████████████████████████████████████| 2/2 [00:40<00:00, 20.30s/it]\n"
     ]
    },
    {
     "data": {
      "text/html": [
       "<div>\n",
       "<style scoped>\n",
       "    .dataframe tbody tr th:only-of-type {\n",
       "        vertical-align: middle;\n",
       "    }\n",
       "\n",
       "    .dataframe tbody tr th {\n",
       "        vertical-align: top;\n",
       "    }\n",
       "\n",
       "    .dataframe thead tr th {\n",
       "        text-align: left;\n",
       "    }\n",
       "</style>\n",
       "<table border=\"1\" class=\"dataframe\">\n",
       "  <thead>\n",
       "    <tr>\n",
       "      <th></th>\n",
       "      <th>Site</th>\n",
       "      <th>Pontos</th>\n",
       "      <th>Regulamento</th>\n",
       "      <th>Link</th>\n",
       "    </tr>\n",
       "  </thead>\n",
       "  <tbody>\n",
       "    <tr>\n",
       "      <th>0</th>\n",
       "      <td>Movida</td>\n",
       "      <td>2 pts</td>\n",
       "      <td>Viaje com segurança e\\nconforto com a Movida\\ne ganhe pontos Livelo</td>\n",
       "      <td>https://parcerias.movida.com.br/livelo</td>\n",
       "    </tr>\n",
       "    <tr>\n",
       "      <th>0</th>\n",
       "      <td>Renner</td>\n",
       "      <td>2 pts</td>\n",
       "      <td>Ganhe pontos Livelo comprando na Renner\\nRenove seu guarda-roupa e ainda ganhe pontos para aproveitar como quiser!</td>\n",
       "      <td>https://clube.lojasrenner.com.br/b2b/livelo?partner=livelo&amp;utm_campaign=livelo&amp;utm_source=b2b&amp;utm_medium=livelo</td>\n",
       "    </tr>\n",
       "  </tbody>\n",
       "</table>\n",
       "</div>"
      ],
      "text/plain": [
       "     Site Pontos  \\\n",
       "0  Movida  2 pts   \n",
       "0  Renner  2 pts   \n",
       "\n",
       "                                                                                                          Regulamento  \\\n",
       "0                                                 Viaje com segurança e\\nconforto com a Movida\\ne ganhe pontos Livelo   \n",
       "0  Ganhe pontos Livelo comprando na Renner\\nRenove seu guarda-roupa e ainda ganhe pontos para aproveitar como quiser!   \n",
       "\n",
       "                                                                                                              Link  \n",
       "0                                                                           https://parcerias.movida.com.br/livelo  \n",
       "0  https://clube.lojasrenner.com.br/b2b/livelo?partner=livelo&utm_campaign=livelo&utm_source=b2b&utm_medium=livelo  "
      ]
     },
     "metadata": {},
     "output_type": "display_data"
    }
   ],
   "source": [
    "#Entrar com os parceiros desejados\n",
    "lista_sites = []\n",
    "site =input('Digite o site desejado (0 para encerrar): ')\n",
    "\n",
    "\n",
    "\n",
    "while site != '0':\n",
    "    lista_sites.append(site.capitalize())\n",
    "    site =input('Digite o site desejado (0 para encerrar): ')\n",
    "\n",
    "time.sleep(1)\n",
    "print('\\n')\n",
    "print('Situações da Livelo:\\n')\n",
    "\n",
    "#criar o navegador\n",
    "navegador = webdriver.Chrome(service=servico)\n",
    "navegador.maximize_window()\n",
    "\n",
    "#Procurar os parceiros\n",
    "display(promocoes_livelo(lista_sites))\n",
    "\n",
    "#Fechar o navegador\n",
    "navegador.quit()"
   ]
  }
 ],
 "metadata": {
  "kernelspec": {
   "display_name": "Python 3 (ipykernel)",
   "language": "python",
   "name": "python3"
  },
  "language_info": {
   "codemirror_mode": {
    "name": "ipython",
    "version": 3
   },
   "file_extension": ".py",
   "mimetype": "text/x-python",
   "name": "python",
   "nbconvert_exporter": "python",
   "pygments_lexer": "ipython3",
   "version": "3.9.7"
  }
 },
 "nbformat": 4,
 "nbformat_minor": 5
}
